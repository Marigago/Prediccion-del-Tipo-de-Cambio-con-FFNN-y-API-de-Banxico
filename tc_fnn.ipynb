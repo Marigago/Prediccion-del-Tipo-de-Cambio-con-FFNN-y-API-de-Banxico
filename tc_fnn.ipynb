{
  "cells": [
    {
      "cell_type": "markdown",
      "metadata": {},
      "source": [
        "## 1. Obtención de datos\n",
        "\n",
        "Conéctense a la API de Banxico para descargar la serie histórica del tipo de cambio FIX.\n",
        "\n",
        "Usen al menos 2 años de datos para entrenar.\n",
        "\n",
        "Conserven los últimos 15 días como conjunto de prueba (test set)."
      ]
    },
    {
      "cell_type": "code",
      "execution_count": 3,
      "metadata": {},
      "outputs": [],
      "source": [
        "import plotly.express as px\n",
        "import plotly.graph_objects as go\n",
        "from plotly.subplots import make_subplots\n",
        "\n",
        "import pandas as pd\n",
        "import numpy as np\n",
        "from datetime import datetime\n",
        "\n",
        "from statsmodels.tsa.stattools import adfuller, kpss\n",
        "from statsmodels.tsa.seasonal import STL\n",
        "from statsmodels.tsa.stattools import acf, pacf\n",
        "from statsmodels.tsa.statespace.sarimax import SARIMAX\n",
        "\n",
        "from scipy.stats import boxcox\n",
        "from scipy.special import inv_boxcox\n",
        "\n",
        "from sklearn.metrics import mean_squared_error, mean_absolute_error\n",
        "\n",
        "import warnings\n",
        "warnings.filterwarnings('ignore')"
      ]
    },
    {
      "cell_type": "code",
      "execution_count": 4,
      "metadata": {
        "colab": {
          "base_uri": "https://localhost:8080/",
          "height": 206
        },
        "id": "21O9h8lglXpH",
        "outputId": "10877e7f-aeb4-4e6e-f570-f2e57156310f"
      },
      "outputs": [
        {
          "data": {
            "text/html": [
              "<div>\n",
              "<style scoped>\n",
              "    .dataframe tbody tr th:only-of-type {\n",
              "        vertical-align: middle;\n",
              "    }\n",
              "\n",
              "    .dataframe tbody tr th {\n",
              "        vertical-align: top;\n",
              "    }\n",
              "\n",
              "    .dataframe thead th {\n",
              "        text-align: right;\n",
              "    }\n",
              "</style>\n",
              "<table border=\"1\" class=\"dataframe\">\n",
              "  <thead>\n",
              "    <tr style=\"text-align: right;\">\n",
              "      <th></th>\n",
              "      <th>TipoCambio</th>\n",
              "    </tr>\n",
              "    <tr>\n",
              "      <th>Fecha</th>\n",
              "      <th></th>\n",
              "    </tr>\n",
              "  </thead>\n",
              "  <tbody>\n",
              "    <tr>\n",
              "      <th>1991-11-12</th>\n",
              "      <td>3.0735</td>\n",
              "    </tr>\n",
              "    <tr>\n",
              "      <th>1991-11-13</th>\n",
              "      <td>3.0712</td>\n",
              "    </tr>\n",
              "    <tr>\n",
              "      <th>1991-11-14</th>\n",
              "      <td>3.0718</td>\n",
              "    </tr>\n",
              "    <tr>\n",
              "      <th>1991-11-15</th>\n",
              "      <td>3.0684</td>\n",
              "    </tr>\n",
              "    <tr>\n",
              "      <th>1991-11-18</th>\n",
              "      <td>3.0673</td>\n",
              "    </tr>\n",
              "  </tbody>\n",
              "</table>\n",
              "</div>"
            ],
            "text/plain": [
              "            TipoCambio\n",
              "Fecha                 \n",
              "1991-11-12      3.0735\n",
              "1991-11-13      3.0712\n",
              "1991-11-14      3.0718\n",
              "1991-11-15      3.0684\n",
              "1991-11-18      3.0673"
            ]
          },
          "execution_count": 4,
          "metadata": {},
          "output_type": "execute_result"
        }
      ],
      "source": [
        "import requests\n",
        "import pandas as pd\n",
        "\n",
        "# Tu token de Banxico\n",
        "token = \"b2b8aef3c6559490348dbc3e9bfbe878054a181310b39ac2e33793ac6186b216\"\n",
        "\n",
        "# Serie del tipo de cambio FIX (peso/dólar)\n",
        "serie_id = \"SF43718\"\n",
        "\n",
        "# Endpoint\n",
        "url = f\"https://www.banxico.org.mx/SieAPIRest/service/v1/series/{serie_id}/datos\"\n",
        "\n",
        "# Headers con el token\n",
        "headers = {\"Bmx-Token\": token}\n",
        "\n",
        "# Llamada a la API\n",
        "response = requests.get(url, headers=headers)\n",
        "data = response.json()\n",
        "\n",
        "# Extraer datos\n",
        "datos = data[\"bmx\"][\"series\"][0][\"datos\"]   \n",
        "\n",
        "# Convertir a DataFrame\n",
        "df = pd.DataFrame(datos)\n",
        "df[\"Fecha\"] = pd.to_datetime(df[\"fecha\"], dayfirst=True)\n",
        "df[\"TipoCambio\"] = pd.to_numeric(df[\"dato\"], errors=\"coerce\")\n",
        "df.set_index('Fecha', inplace=True) \n",
        "df.drop(columns=['fecha', 'dato'], inplace= True)\n",
        "df.head()"
      ]
    },
    {
      "cell_type": "code",
      "execution_count": 5,
      "metadata": {
        "id": "tI6Qx25umZ6o"
      },
      "outputs": [
        {
          "name": "stdout",
          "output_type": "stream",
          "text": [
            "datetime64[ns]\n",
            "(8520, 1)\n",
            "            TipoCambio\n",
            "Fecha                 \n",
            "1991-11-12      3.0735\n",
            "1991-11-13      3.0712\n",
            "1991-11-14      3.0718\n",
            "            TipoCambio\n",
            "Fecha                 \n",
            "2025-10-01     18.3477\n",
            "2025-10-02     18.4843\n",
            "2025-10-03     18.3902\n"
          ]
        }
      ],
      "source": [
        "print(df.index.dtype)       \n",
        "print(df.shape)\n",
        "print(df.head(3))\n",
        "print(df.tail(3))"
      ]
    },
    {
      "cell_type": "code",
      "execution_count": 6,
      "metadata": {},
      "outputs": [],
      "source": [
        "import plotly.io as pio\n",
        "pio.renderers.default = \"browser\"\n",
        "\n",
        "fig = px.line(\n",
        "    df,\n",
        "    x=df.index,\n",
        "    y=\"TipoCambio\",\n",
        "    title=\"Tipo de cambio FIX (Peso/Dólar) - Banxico\",\n",
        "    labels={\"TipoCambio\": \"Pesos por USD\"}\n",
        ")\n",
        "\n",
        "fig.show()"
      ]
    },
    {
      "cell_type": "code",
      "execution_count": 7,
      "metadata": {},
      "outputs": [
        {
          "name": "stdout",
          "output_type": "stream",
          "text": [
            "Días entre 2021-01-01 y hoy: 1736\n"
          ]
        }
      ],
      "source": [
        "fecha_inicio = datetime(2021, 1, 1)\n",
        "hoy = datetime.today()\n",
        "\n",
        "dias = (hoy - fecha_inicio).days\n",
        "print(f\"Días entre 2021-01-01 y hoy: {dias}\")\n",
        "\n",
        "# Asegúrate de que el índice sea datetime\n",
        "df.index = pd.to_datetime(df.index)\n",
        "\n",
        "# Filtrar desde 2021-01-01 hasta hoy\n",
        "fecha_inicio = \"2021-01-01\"\n",
        "hoy = pd.Timestamp.today()\n",
        "\n",
        "df = df.loc[fecha_inicio:hoy]\n",
        "\n",
        "# Graficar con Plotly\n",
        "fig = px.line(\n",
        "    df,\n",
        "    x=df.index,\n",
        "    y=\"TipoCambio\",\n",
        "    title=\"Tipo de cambio FIX (Peso/Dólar) - Banxico\",\n",
        "    labels={\"TipoCambio\": \"Pesos por USD\"}\n",
        ")\n",
        "\n",
        "# Mostrar gráfico interactivo\n",
        "fig.show()"
      ]
    },
    {
      "cell_type": "code",
      "execution_count": 8,
      "metadata": {},
      "outputs": [],
      "source": [
        "from sklearn.preprocessing import MinMaxScaler\n",
        "# Normalizar datos\n",
        "scaler = MinMaxScaler()\n",
        "df_scaled = scaler.fit_transform(df[[\"TipoCambio\"]])\n",
        "\n",
        "# Función para crear ventanas\n",
        "def create_dataset(series, window=15):\n",
        "    X, y = [], []\n",
        "    for i in range(len(series)-window):\n",
        "        X.append(series[i:(i+window), 0])\n",
        "        y.append(series[i+window, 0])\n",
        "    return np.array(X), np.array(y)\n",
        "\n",
        "window_size = 15\n",
        "X, y = create_dataset(df_scaled, window_size)\n",
        "\n",
        "# Separar en train y test (últimos 15 días)\n",
        "\n",
        "n_test = 15\n",
        "X_train, X_test = X[:-n_test], X[-n_test:]\n",
        "y_train, y_test = y[:-n_test], y[-n_test:]\n",
        "\n",
        "fechas_test = df.index[window_size:][-n_test:]"
      ]
    },
    {
      "cell_type": "code",
      "execution_count": 9,
      "metadata": {},
      "outputs": [
        {
          "data": {
            "text/plain": [
              "array([[0.64018385, 0.65805793, 0.61816955, ..., 0.59159554, 0.6207777 ,\n",
              "        0.66528051],\n",
              "       [0.65805793, 0.61816955, 0.65191143, ..., 0.6207777 , 0.66528051,\n",
              "        0.69747209],\n",
              "       [0.61816955, 0.65191143, 0.66294594, ..., 0.66528051, 0.69747209,\n",
              "        0.67109871],\n",
              "       ...,\n",
              "       [0.44913183, 0.4416539 , 0.44466331, ..., 0.44174509, 0.42742759,\n",
              "        0.42301379],\n",
              "       [0.4416539 , 0.44466331, 0.41207047, ..., 0.42742759, 0.42301379,\n",
              "        0.41942073],\n",
              "       [0.44466331, 0.41207047, 0.41969432, ..., 0.42301379, 0.41942073,\n",
              "        0.41152331]], shape=(1168, 15))"
            ]
          },
          "metadata": {},
          "output_type": "display_data"
        },
        {
          "data": {
            "text/plain": [
              "array([[0.41207047, 0.41969432, 0.42835777, 0.42961625, 0.4225031 ,\n",
              "        0.42100751, 0.42137229, 0.43253447, 0.42890494, 0.44174509,\n",
              "        0.42742759, 0.42301379, 0.41942073, 0.41152331, 0.39997811],\n",
              "       [0.41969432, 0.42835777, 0.42961625, 0.4225031 , 0.42100751,\n",
              "        0.42137229, 0.43253447, 0.42890494, 0.44174509, 0.42742759,\n",
              "        0.42301379, 0.41942073, 0.41152331, 0.39997811, 0.39031152],\n",
              "       [0.42835777, 0.42961625, 0.4225031 , 0.42100751, 0.42137229,\n",
              "        0.43253447, 0.42890494, 0.44174509, 0.42742759, 0.42301379,\n",
              "        0.41942073, 0.41152331, 0.39997811, 0.39031152, 0.36984752],\n",
              "       [0.42961625, 0.4225031 , 0.42100751, 0.42137229, 0.43253447,\n",
              "        0.42890494, 0.44174509, 0.42742759, 0.42301379, 0.41942073,\n",
              "        0.41152331, 0.39997811, 0.39031152, 0.36984752, 0.36295324],\n",
              "       [0.4225031 , 0.42100751, 0.42137229, 0.43253447, 0.42890494,\n",
              "        0.44174509, 0.42742759, 0.42301379, 0.41942073, 0.41152331,\n",
              "        0.39997811, 0.39031152, 0.36984752, 0.36295324, 0.36939155],\n",
              "       [0.42100751, 0.42137229, 0.43253447, 0.42890494, 0.44174509,\n",
              "        0.42742759, 0.42301379, 0.41942073, 0.41152331, 0.39997811,\n",
              "        0.39031152, 0.36984752, 0.36295324, 0.36939155, 0.37453491],\n",
              "       [0.42137229, 0.43253447, 0.42890494, 0.44174509, 0.42742759,\n",
              "        0.42301379, 0.41942073, 0.41152331, 0.39997811, 0.39031152,\n",
              "        0.36984752, 0.36295324, 0.36939155, 0.37453491, 0.37800029],\n",
              "       [0.43253447, 0.42890494, 0.44174509, 0.42742759, 0.42301379,\n",
              "        0.41942073, 0.41152331, 0.39997811, 0.39031152, 0.36984752,\n",
              "        0.36295324, 0.36939155, 0.37453491, 0.37800029, 0.36249726],\n",
              "       [0.42890494, 0.44174509, 0.42742759, 0.42301379, 0.41942073,\n",
              "        0.41152331, 0.39997811, 0.39031152, 0.36984752, 0.36295324,\n",
              "        0.36939155, 0.37453491, 0.37800029, 0.36249726, 0.38219523],\n",
              "       [0.44174509, 0.42742759, 0.42301379, 0.41942073, 0.41152331,\n",
              "        0.39997811, 0.39031152, 0.36984752, 0.36295324, 0.36939155,\n",
              "        0.37453491, 0.37800029, 0.36249726, 0.38219523, 0.38483986],\n",
              "       [0.42742759, 0.42301379, 0.41942073, 0.41152331, 0.39997811,\n",
              "        0.39031152, 0.36984752, 0.36295324, 0.36939155, 0.37453491,\n",
              "        0.37800029, 0.36249726, 0.38219523, 0.38483986, 0.37331291],\n",
              "       [0.42301379, 0.41942073, 0.41152331, 0.39997811, 0.39031152,\n",
              "        0.36984752, 0.36295324, 0.36939155, 0.37453491, 0.37800029,\n",
              "        0.36249726, 0.38219523, 0.38483986, 0.37331291, 0.36751295],\n",
              "       [0.41942073, 0.41152331, 0.39997811, 0.39031152, 0.36984752,\n",
              "        0.36295324, 0.36939155, 0.37453491, 0.37800029, 0.36249726,\n",
              "        0.38219523, 0.38483986, 0.37331291, 0.36751295, 0.36450354],\n",
              "       [0.41152331, 0.39997811, 0.39031152, 0.36984752, 0.36295324,\n",
              "        0.36939155, 0.37453491, 0.37800029, 0.36249726, 0.38219523,\n",
              "        0.38483986, 0.37331291, 0.36751295, 0.36450354, 0.36696578],\n",
              "       [0.39997811, 0.39031152, 0.36984752, 0.36295324, 0.36939155,\n",
              "        0.37453491, 0.37800029, 0.36249726, 0.38219523, 0.38483986,\n",
              "        0.37331291, 0.36751295, 0.36450354, 0.36696578, 0.39188006]])"
            ]
          },
          "metadata": {},
          "output_type": "display_data"
        },
        {
          "data": {
            "text/plain": [
              "array([0.69747209, 0.67109871, 0.70786824, ..., 0.41942073, 0.41152331,\n",
              "       0.39997811], shape=(1168,))"
            ]
          },
          "metadata": {},
          "output_type": "display_data"
        },
        {
          "data": {
            "text/plain": [
              "array([0.39031152, 0.36984752, 0.36295324, 0.36939155, 0.37453491,\n",
              "       0.37800029, 0.36249726, 0.38219523, 0.38483986, 0.37331291,\n",
              "       0.36751295, 0.36450354, 0.36696578, 0.39188006, 0.3747173 ])"
            ]
          },
          "metadata": {},
          "output_type": "display_data"
        }
      ],
      "source": [
        "display(X_train)\n",
        "display(X_test)\n",
        "display(y_train)\n",
        "display(y_test)"
      ]
    },
    {
      "cell_type": "markdown",
      "metadata": {},
      "source": [
        "## 2. Preparación de datos\n",
        "\n",
        "Normalicen los datos (ejemplo: MinMaxScaler).\n",
        "\n",
        "Construyan ventanas deslizantes de tamaño definido por ustedes (ejemplo: 10, 15, 30 días).\n",
        "\n",
        "Justifiquen el tamaño de la ventana: ¿por qué ese número de rezagos es razonable?\n",
        "R = Dado que vamos a predecir 15 días, probamos un aprendizaje de 15 días por 15 días. "
      ]
    },
    {
      "cell_type": "code",
      "execution_count": null,
      "metadata": {},
      "outputs": [],
      "source": [
        "import pandas as pd\n",
        "import numpy as np\n",
        "from tensorflow.keras.models import Sequential\n",
        "from tensorflow.keras.layers import Dense\n",
        "from tensorflow.keras.optimizers import Adam, RMSprop\n",
        "\n",
        "# ==============================\n",
        "# PARÁMETROS (ajustables rápido)\n",
        "# ==============================\n",
        "WINDOW_SIZE = 10        # Número de columnas de ventana deslizante (len)\n",
        "HIDDEN_LAYERS = [64, 32]  # Neuronas por capa oculta (puedes agregar/quitar capas)\n",
        "ACTIVATION = \"relu\"     # Función de activación (relu, tanh, sigmoid, etc.)\n",
        "OUTPUT_ACTIVATION = \"linear\"  # Salida para regresión\n",
        "OPTIMIZER = Adam(learning_rate=0.001)  # Optimizador\n",
        "EPOCHS = 50             # Número de épocas\n",
        "BATCH_SIZE = 16         # Tamaño del batch\n",
        "LOSS = \"mse\"            # Error cuadrático medio para regresión\n",
        "METRICS = [\"mae\"]       # Métrica adicional (error absoluto medio)\n",
        "\n",
        "# ==============================\n",
        "# FUNCIONES PRINCIPALES\n",
        "# ==============================\n",
        "\n",
        "def preparar_datos(df, window_size):\n",
        "    \"\"\"\n",
        "    Separa X e y del DataFrame.\n",
        "    Asume que las últimas columnas después de 'fecha' y 'dolar' son la ventana deslizante.\n",
        "    \"\"\"\n",
        "    X = df.iloc[:, -window_size:].values  # Últimas columnas = ventana\n",
        "    y = df[\"dolar\"].values                # Columna objetivo\n",
        "    return X, y\n",
        "\n",
        "def construir_modelo(input_dim, hidden_layers, activation, output_activation, optimizer, loss, metrics):\n",
        "    \"\"\"\n",
        "    Construcción de la red neuronal feed-forward (FFNN).\n",
        "    \"\"\"\n",
        "    model = Sequential()\n",
        "    \n",
        "    # Capa de entrada + primera oculta\n",
        "    model.add(Dense(hidden_layers[0], activation=activation, input_dim=input_dim))\n",
        "    \n",
        "    # Capas ocultas adicionales\n",
        "    for units in hidden_layers[1:]:\n",
        "        model.add(Dense(units, activation=activation))\n",
        "    \n",
        "    # Capa de salida (regresión → 1 neurona)\n",
        "    model.add(Dense(1, activation=output_activation))\n",
        "    \n",
        "    # Compilar\n",
        "    model.compile(optimizer=optimizer, loss=loss, metrics=metrics)\n",
        "    \n",
        "    return model\n",
        "\n",
        "def entrenar_modelo(model, X, y, epochs, batch_size):\n",
        "    \"\"\"\n",
        "    Entrena el modelo con los datos dados.\n",
        "    \"\"\"\n",
        "    history = model.fit(X, y, epochs=epochs, batch_size=batch_size, validation_split=0.2, verbose=1)\n",
        "    return history\n",
        "\n",
        "# ==============================\n",
        "# MAIN\n",
        "# ==============================\n",
        "\n",
        "def main(df):\n",
        "    # Preparar datos\n",
        "    X, y = preparar_datos(df, WINDOW_SIZE)\n",
        "    \n",
        "    # Construir modelo\n",
        "    model = construir_modelo(\n",
        "        input_dim=X.shape[1],\n",
        "        hidden_layers=HIDDEN_LAYERS,\n",
        "        activation=ACTIVATION,\n",
        "        output_activation=OUTPUT_ACTIVATION,\n",
        "        optimizer=OPTIMIZER,\n",
        "        loss=LOSS,\n",
        "        metrics=METRICS\n",
        "    )\n",
        "    \n",
        "    # Entrenar modelo\n",
        "    history = entrenar_modelo(model, X, y, EPOCHS, BATCH_SIZE)\n",
        "    \n",
        "    return model, history\n",
        "\n"
      ]
    },
    {
      "cell_type": "markdown",
      "metadata": {},
      "source": [
        "# mari"
      ]
    },
    {
      "cell_type": "code",
      "execution_count": null,
      "metadata": {},
      "outputs": [],
      "source": []
    },
    {
      "cell_type": "code",
      "execution_count": null,
      "metadata": {},
      "outputs": [],
      "source": []
    },
    {
      "cell_type": "code",
      "execution_count": null,
      "metadata": {},
      "outputs": [],
      "source": []
    },
    {
      "cell_type": "markdown",
      "metadata": {},
      "source": [
        "# remi"
      ]
    },
    {
      "cell_type": "code",
      "execution_count": null,
      "metadata": {},
      "outputs": [],
      "source": []
    },
    {
      "cell_type": "code",
      "execution_count": null,
      "metadata": {},
      "outputs": [],
      "source": []
    },
    {
      "cell_type": "code",
      "execution_count": null,
      "metadata": {},
      "outputs": [],
      "source": []
    },
    {
      "cell_type": "markdown",
      "metadata": {},
      "source": [
        "# esteban"
      ]
    },
    {
      "cell_type": "code",
      "execution_count": null,
      "metadata": {},
      "outputs": [],
      "source": []
    },
    {
      "cell_type": "code",
      "execution_count": null,
      "metadata": {},
      "outputs": [],
      "source": []
    },
    {
      "cell_type": "code",
      "execution_count": null,
      "metadata": {},
      "outputs": [],
      "source": []
    }
  ],
  "metadata": {
    "colab": {
      "provenance": []
    },
    "kernelspec": {
      "display_name": ".venv",
      "language": "python",
      "name": "python3"
    },
    "language_info": {
      "codemirror_mode": {
        "name": "ipython",
        "version": 3
      },
      "file_extension": ".py",
      "mimetype": "text/x-python",
      "name": "python",
      "nbconvert_exporter": "python",
      "pygments_lexer": "ipython3",
      "version": "3.11.13"
    }
  },
  "nbformat": 4,
  "nbformat_minor": 0
}

{
  "cells": [
    {
      "cell_type": "markdown",
      "metadata": {},
      "source": [
        "## 1. Obtención de datos\n",
        "\n",
        "Conéctense a la API de Banxico para descargar la serie histórica del tipo de cambio FIX.\n"
      ]
    },
    {
      "cell_type": "code",
      "execution_count": 5,
      "metadata": {
        "colab": {
          "base_uri": "https://localhost:8080/",
          "height": 206
        },
        "id": "21O9h8lglXpH",
        "outputId": "10877e7f-aeb4-4e6e-f570-f2e57156310f"
      },
      "outputs": [
        {
          "data": {
            "text/html": [
              "<div>\n",
              "<style scoped>\n",
              "    .dataframe tbody tr th:only-of-type {\n",
              "        vertical-align: middle;\n",
              "    }\n",
              "\n",
              "    .dataframe tbody tr th {\n",
              "        vertical-align: top;\n",
              "    }\n",
              "\n",
              "    .dataframe thead th {\n",
              "        text-align: right;\n",
              "    }\n",
              "</style>\n",
              "<table border=\"1\" class=\"dataframe\">\n",
              "  <thead>\n",
              "    <tr style=\"text-align: right;\">\n",
              "      <th></th>\n",
              "      <th>fecha</th>\n",
              "      <th>dato</th>\n",
              "    </tr>\n",
              "  </thead>\n",
              "  <tbody>\n",
              "    <tr>\n",
              "      <th>0</th>\n",
              "      <td>1991-11-12</td>\n",
              "      <td>3.0735</td>\n",
              "    </tr>\n",
              "    <tr>\n",
              "      <th>1</th>\n",
              "      <td>1991-11-13</td>\n",
              "      <td>3.0712</td>\n",
              "    </tr>\n",
              "    <tr>\n",
              "      <th>2</th>\n",
              "      <td>1991-11-14</td>\n",
              "      <td>3.0718</td>\n",
              "    </tr>\n",
              "    <tr>\n",
              "      <th>3</th>\n",
              "      <td>1991-11-15</td>\n",
              "      <td>3.0684</td>\n",
              "    </tr>\n",
              "    <tr>\n",
              "      <th>4</th>\n",
              "      <td>1991-11-18</td>\n",
              "      <td>3.0673</td>\n",
              "    </tr>\n",
              "  </tbody>\n",
              "</table>\n",
              "</div>"
            ],
            "text/plain": [
              "       fecha    dato\n",
              "0 1991-11-12  3.0735\n",
              "1 1991-11-13  3.0712\n",
              "2 1991-11-14  3.0718\n",
              "3 1991-11-15  3.0684\n",
              "4 1991-11-18  3.0673"
            ]
          },
          "execution_count": 5,
          "metadata": {},
          "output_type": "execute_result"
        }
      ],
      "source": [
        "import requests\n",
        "import pandas as pd\n",
        "\n",
        "# Tu token de Banxico\n",
        "token = \"b2b8aef3c6559490348dbc3e9bfbe878054a181310b39ac2e33793ac6186b216\"\n",
        "\n",
        "\n",
        "# Serie del tipo de cambio FIX (peso/dólar)\n",
        "serie_id = \"SF43718\"\n",
        "\n",
        "# Endpoint\n",
        "url = f\"https://www.banxico.org.mx/SieAPIRest/service/v1/series/{serie_id}/datos\"\n",
        "\n",
        "# Headers con el token\n",
        "headers = {\"Bmx-Token\": token}\n",
        "\n",
        "# Llamada a la API\n",
        "response = requests.get(url, headers=headers)\n",
        "data = response.json()\n",
        "\n",
        "# Extraer datos\n",
        "datos = data[\"bmx\"][\"series\"][0][\"datos\"]\n",
        "\n",
        "# Convertir a DataFrame\n",
        "df = pd.DataFrame(datos)\n",
        "df[\"fecha\"] = pd.to_datetime(df[\"fecha\"], dayfirst=True)\n",
        "df[\"dato\"] = pd.to_numeric(df[\"dato\"], errors=\"coerce\")\n",
        "\n",
        "df.head()\n"
      ]
    },
    {
      "cell_type": "markdown",
      "metadata": {},
      "source": [
        "\n",
        "Usen al menos 2 años de datos para entrenar.\n",
        "\n",
        "Conserven los últimos 15 días como conjunto de prueba (test set)."
      ]
    },
    {
      "cell_type": "code",
      "execution_count": null,
      "metadata": {},
      "outputs": [],
      "source": []
    },
    {
      "cell_type": "markdown",
      "metadata": {},
      "source": [
        "## 2. Preparación de datos\n",
        "\n",
        "Normalicen los datos (ejemplo: MinMaxScaler).\n",
        "\n",
        "Construyan ventanas deslizantes de tamaño definido por ustedes (ejemplo: 10, 15, 30 días).\n",
        "\n",
        "Justifiquen el tamaño de la ventana: ¿por qué ese número de rezagos es razonable?\n",
        "\n"
      ]
    },
    {
      "cell_type": "code",
      "execution_count": null,
      "metadata": {
        "id": "tI6Qx25umZ6o"
      },
      "outputs": [],
      "source": []
    }
  ],
  "metadata": {
    "colab": {
      "provenance": []
    },
    "kernelspec": {
      "display_name": "Python 3",
      "name": "python3"
    },
    "language_info": {
      "codemirror_mode": {
        "name": "ipython",
        "version": 3
      },
      "file_extension": ".py",
      "mimetype": "text/x-python",
      "name": "python",
      "nbconvert_exporter": "python",
      "pygments_lexer": "ipython3",
      "version": "3.11.13"
    }
  },
  "nbformat": 4,
  "nbformat_minor": 0
}
